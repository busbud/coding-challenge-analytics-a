{
 "metadata": {
  "name": ""
 },
 "nbformat": 3,
 "nbformat_minor": 0,
 "worksheets": [
  {
   "cells": [
    {
     "cell_type": "code",
     "collapsed": false,
     "input": [
      "from pandas import DataFrame, Series\n",
      "import pandas as pd\n",
      "import json\n",
      "\n",
      "names = ['geonameid', 'name', 'asciiname', 'alternatenames', 'latitude', 'longitude', 'feature class', 'feature code', 'country code', 'cc2', 'admin1 code', 'admin2 code', 'admin3 code', 'admin4 code', 'population', 'elevation', 'dem', 'timezone', 'modification date']\n",
      "raw = pd.read_table('static/data/cities15000.txt', names=names)"
     ],
     "language": "python",
     "metadata": {},
     "outputs": [],
     "prompt_number": 1
    },
    {
     "cell_type": "code",
     "collapsed": false,
     "input": [
      "frame = raw[raw['country code'].notnull()]"
     ],
     "language": "python",
     "metadata": {},
     "outputs": [],
     "prompt_number": 2
    },
    {
     "cell_type": "code",
     "collapsed": false,
     "input": [
      "print '{} entries dropped because no country code'.format(len(raw) - len(frame))"
     ],
     "language": "python",
     "metadata": {},
     "outputs": [
      {
       "output_type": "stream",
       "stream": "stdout",
       "text": [
        "13 entries dropped because no country code\n"
       ]
      }
     ],
     "prompt_number": 3
    },
    {
     "cell_type": "code",
     "collapsed": false,
     "input": [
      "frame['in target'] = False"
     ],
     "language": "python",
     "metadata": {},
     "outputs": [],
     "prompt_number": 4
    },
    {
     "cell_type": "code",
     "collapsed": false,
     "input": [
      "target = json.loads(open('static/data/target-list.json').read())\n",
      "print '{} countries in target-list'.format(len(target))"
     ],
     "language": "python",
     "metadata": {},
     "outputs": [
      {
       "output_type": "stream",
       "stream": "stdout",
       "text": [
        "900 countries in target-list\n"
       ]
      }
     ],
     "prompt_number": 5
    },
    {
     "cell_type": "code",
     "collapsed": false,
     "input": [
      "sorted_frame = frame.set_index('geonameid').sort_index()"
     ],
     "language": "python",
     "metadata": {},
     "outputs": [],
     "prompt_number": 6
    },
    {
     "cell_type": "code",
     "collapsed": false,
     "input": [
      "for item in target:\n",
      "    if item in sorted_frame.index:\n",
      "        sorted_frame['in target'].ix[item] = True\n",
      "print '{} entries in `target-list.json`, only {} of which in `cities15000.txt`'.format(len(target), len(sorted_frame[sorted_frame['in target'] == True]))"
     ],
     "language": "python",
     "metadata": {},
     "outputs": [
      {
       "output_type": "stream",
       "stream": "stdout",
       "text": [
        "900 entries in `target-list.json`, only 387 of which in `cities15000.txt`\n"
       ]
      }
     ],
     "prompt_number": 7
    },
    {
     "cell_type": "code",
     "collapsed": false,
     "input": [
      "country_frame = frame.reset_index().set_index(['country code', 'geonameid'])"
     ],
     "language": "python",
     "metadata": {},
     "outputs": [],
     "prompt_number": 8
    },
    {
     "cell_type": "code",
     "collapsed": false,
     "input": [
      "country_frame[:10]"
     ],
     "language": "python",
     "metadata": {},
     "outputs": [
      {
       "html": [
        "<div style=\"max-height:1000px;max-width:1500px;overflow:auto;\">\n",
        "<table border=\"1\" class=\"dataframe\">\n",
        "  <thead>\n",
        "    <tr style=\"text-align: right;\">\n",
        "      <th></th>\n",
        "      <th></th>\n",
        "      <th>index</th>\n",
        "      <th>name</th>\n",
        "      <th>asciiname</th>\n",
        "      <th>alternatenames</th>\n",
        "      <th>latitude</th>\n",
        "      <th>longitude</th>\n",
        "      <th>feature class</th>\n",
        "      <th>feature code</th>\n",
        "      <th>cc2</th>\n",
        "      <th>admin1 code</th>\n",
        "      <th>admin2 code</th>\n",
        "      <th>admin3 code</th>\n",
        "      <th>admin4 code</th>\n",
        "      <th>population</th>\n",
        "      <th>elevation</th>\n",
        "      <th>dem</th>\n",
        "      <th>timezone</th>\n",
        "      <th>modification date</th>\n",
        "      <th>in target</th>\n",
        "    </tr>\n",
        "    <tr>\n",
        "      <th>country code</th>\n",
        "      <th>geonameid</th>\n",
        "      <th></th>\n",
        "      <th></th>\n",
        "      <th></th>\n",
        "      <th></th>\n",
        "      <th></th>\n",
        "      <th></th>\n",
        "      <th></th>\n",
        "      <th></th>\n",
        "      <th></th>\n",
        "      <th></th>\n",
        "      <th></th>\n",
        "      <th></th>\n",
        "      <th></th>\n",
        "      <th></th>\n",
        "      <th></th>\n",
        "      <th></th>\n",
        "      <th></th>\n",
        "      <th></th>\n",
        "      <th></th>\n",
        "    </tr>\n",
        "  </thead>\n",
        "  <tbody>\n",
        "    <tr>\n",
        "      <th rowspan=\"2\" valign=\"top\">AD</th>\n",
        "      <th>3040051</th>\n",
        "      <td> 0</td>\n",
        "      <td>     les Escaldes</td>\n",
        "      <td>     les Escaldes</td>\n",
        "      <td> Ehskal'des-Ehndzhordani,Escaldes,Escaldes-Engo...</td>\n",
        "      <td> 42.50729</td>\n",
        "      <td>  1.53414</td>\n",
        "      <td> P</td>\n",
        "      <td> PPLA</td>\n",
        "      <td> NaN</td>\n",
        "      <td> 08</td>\n",
        "      <td> NaN</td>\n",
        "      <td> NaN</td>\n",
        "      <td> NaN</td>\n",
        "      <td>   15853</td>\n",
        "      <td>NaN</td>\n",
        "      <td> 1033</td>\n",
        "      <td> Europe/Andorra</td>\n",
        "      <td> 2008-10-15</td>\n",
        "      <td> False</td>\n",
        "    </tr>\n",
        "    <tr>\n",
        "      <th>3041563</th>\n",
        "      <td> 1</td>\n",
        "      <td> Andorra la Vella</td>\n",
        "      <td> Andorra la Vella</td>\n",
        "      <td> ALV,Ando-la-Vyey,Andora,Andora la Vela,Andora ...</td>\n",
        "      <td> 42.50779</td>\n",
        "      <td>  1.52109</td>\n",
        "      <td> P</td>\n",
        "      <td> PPLC</td>\n",
        "      <td> NaN</td>\n",
        "      <td> 07</td>\n",
        "      <td> NaN</td>\n",
        "      <td> NaN</td>\n",
        "      <td> NaN</td>\n",
        "      <td>   20430</td>\n",
        "      <td>NaN</td>\n",
        "      <td> 1037</td>\n",
        "      <td> Europe/Andorra</td>\n",
        "      <td> 2010-05-30</td>\n",
        "      <td> False</td>\n",
        "    </tr>\n",
        "    <tr>\n",
        "      <th rowspan=\"8\" valign=\"top\">AE</th>\n",
        "      <th>290594 </th>\n",
        "      <td> 2</td>\n",
        "      <td>   Umm al Qaywayn</td>\n",
        "      <td>   Umm al Qaywayn</td>\n",
        "      <td> Um al Quweim,Umm al Qaiwain,Umm al Qawain,Umm ...</td>\n",
        "      <td> 25.56473</td>\n",
        "      <td> 55.55517</td>\n",
        "      <td> P</td>\n",
        "      <td> PPLA</td>\n",
        "      <td> NaN</td>\n",
        "      <td> 07</td>\n",
        "      <td> NaN</td>\n",
        "      <td> NaN</td>\n",
        "      <td> NaN</td>\n",
        "      <td>   44411</td>\n",
        "      <td>NaN</td>\n",
        "      <td>    2</td>\n",
        "      <td>     Asia/Dubai</td>\n",
        "      <td> 2012-11-03</td>\n",
        "      <td> False</td>\n",
        "    </tr>\n",
        "    <tr>\n",
        "      <th>291074 </th>\n",
        "      <td> 3</td>\n",
        "      <td>   Ras al-Khaimah</td>\n",
        "      <td>   Ras al-Khaimah</td>\n",
        "      <td> Julfa,Khaimah,RKT,Ra's al Khaymah,Ras al Khaim...</td>\n",
        "      <td> 25.78953</td>\n",
        "      <td> 55.94320</td>\n",
        "      <td> P</td>\n",
        "      <td> PPLA</td>\n",
        "      <td> NaN</td>\n",
        "      <td> 05</td>\n",
        "      <td> NaN</td>\n",
        "      <td> NaN</td>\n",
        "      <td> NaN</td>\n",
        "      <td>  115949</td>\n",
        "      <td>NaN</td>\n",
        "      <td>    2</td>\n",
        "      <td>     Asia/Dubai</td>\n",
        "      <td> 2013-11-26</td>\n",
        "      <td> False</td>\n",
        "    </tr>\n",
        "    <tr>\n",
        "      <th>291696 </th>\n",
        "      <td> 4</td>\n",
        "      <td>     Khawr Fakk\u0101n</td>\n",
        "      <td>     Khawr Fakkan</td>\n",
        "      <td> Fakkan,Fakk\u0101n,Khawr Fakkan,Khawr Fakk\u0101n,Khawr ...</td>\n",
        "      <td> 25.33132</td>\n",
        "      <td> 56.34199</td>\n",
        "      <td> P</td>\n",
        "      <td>  PPL</td>\n",
        "      <td> NaN</td>\n",
        "      <td> 06</td>\n",
        "      <td> NaN</td>\n",
        "      <td> NaN</td>\n",
        "      <td> NaN</td>\n",
        "      <td>   33575</td>\n",
        "      <td>NaN</td>\n",
        "      <td>   20</td>\n",
        "      <td>     Asia/Dubai</td>\n",
        "      <td> 2013-10-25</td>\n",
        "      <td> False</td>\n",
        "    </tr>\n",
        "    <tr>\n",
        "      <th>292223 </th>\n",
        "      <td> 5</td>\n",
        "      <td>            Dubai</td>\n",
        "      <td>            Dubai</td>\n",
        "      <td> DXB,Dabei,Dibai,Dibay,Doubayi,Dubae,Dubai,Duba...</td>\n",
        "      <td> 25.25817</td>\n",
        "      <td> 55.30472</td>\n",
        "      <td> P</td>\n",
        "      <td> PPLA</td>\n",
        "      <td> NaN</td>\n",
        "      <td> 03</td>\n",
        "      <td> NaN</td>\n",
        "      <td> NaN</td>\n",
        "      <td> NaN</td>\n",
        "      <td> 1137347</td>\n",
        "      <td>NaN</td>\n",
        "      <td>   11</td>\n",
        "      <td>     Asia/Dubai</td>\n",
        "      <td> 2012-08-19</td>\n",
        "      <td> False</td>\n",
        "    </tr>\n",
        "    <tr>\n",
        "      <th>292239 </th>\n",
        "      <td> 6</td>\n",
        "      <td>             Dib\u0101</td>\n",
        "      <td>             Diba</td>\n",
        "      <td> Daba,Daba al-Hisn,Dab\u0101,Dab\u0101 al-\u1e24i\u1e63n,Diba,Diba ...</td>\n",
        "      <td> 25.61955</td>\n",
        "      <td> 56.27291</td>\n",
        "      <td> P</td>\n",
        "      <td>  PPL</td>\n",
        "      <td> NaN</td>\n",
        "      <td> 04</td>\n",
        "      <td> NaN</td>\n",
        "      <td> NaN</td>\n",
        "      <td> NaN</td>\n",
        "      <td>   26395</td>\n",
        "      <td>NaN</td>\n",
        "      <td>    4</td>\n",
        "      <td>     Asia/Dubai</td>\n",
        "      <td> 2013-07-06</td>\n",
        "      <td> False</td>\n",
        "    </tr>\n",
        "    <tr>\n",
        "      <th>292672 </th>\n",
        "      <td> 7</td>\n",
        "      <td>          Sharjah</td>\n",
        "      <td>          Sharjah</td>\n",
        "      <td> Al Sharjah,Ash 'Mariqah,Ash Shariqa,Ash Shariq...</td>\n",
        "      <td> 25.33737</td>\n",
        "      <td> 55.41206</td>\n",
        "      <td> P</td>\n",
        "      <td> PPLA</td>\n",
        "      <td> NaN</td>\n",
        "      <td> 06</td>\n",
        "      <td> NaN</td>\n",
        "      <td> NaN</td>\n",
        "      <td> NaN</td>\n",
        "      <td>  543733</td>\n",
        "      <td>NaN</td>\n",
        "      <td>    6</td>\n",
        "      <td>     Asia/Dubai</td>\n",
        "      <td> 2013-03-05</td>\n",
        "      <td> False</td>\n",
        "    </tr>\n",
        "    <tr>\n",
        "      <th>292688 </th>\n",
        "      <td> 8</td>\n",
        "      <td>        Ar Ruways</td>\n",
        "      <td>        Ar Ruways</td>\n",
        "      <td> Ar Ru'ays,Ar Ruways,Ar Ru\u2019ays,Ar-Ruvais,Ruwais...</td>\n",
        "      <td> 24.11028</td>\n",
        "      <td> 52.73056</td>\n",
        "      <td> P</td>\n",
        "      <td>  PPL</td>\n",
        "      <td>  AE</td>\n",
        "      <td> 01</td>\n",
        "      <td> NaN</td>\n",
        "      <td> NaN</td>\n",
        "      <td> NaN</td>\n",
        "      <td>   16000</td>\n",
        "      <td>NaN</td>\n",
        "      <td>   16</td>\n",
        "      <td>     Asia/Dubai</td>\n",
        "      <td> 2012-11-03</td>\n",
        "      <td> False</td>\n",
        "    </tr>\n",
        "    <tr>\n",
        "      <th>292878 </th>\n",
        "      <td> 9</td>\n",
        "      <td>      Al Fujayrah</td>\n",
        "      <td>      Al Fujayrah</td>\n",
        "      <td> Al Fujayrah,Al-Fudjayra,Al-Fujayrah' emiraat,F...</td>\n",
        "      <td> 25.11641</td>\n",
        "      <td> 56.34141</td>\n",
        "      <td> P</td>\n",
        "      <td> PPLA</td>\n",
        "      <td> NaN</td>\n",
        "      <td> 04</td>\n",
        "      <td> NaN</td>\n",
        "      <td> NaN</td>\n",
        "      <td> NaN</td>\n",
        "      <td>   62415</td>\n",
        "      <td>NaN</td>\n",
        "      <td>   15</td>\n",
        "      <td>     Asia/Dubai</td>\n",
        "      <td> 2012-01-18</td>\n",
        "      <td> False</td>\n",
        "    </tr>\n",
        "  </tbody>\n",
        "</table>\n",
        "</div>"
       ],
       "metadata": {},
       "output_type": "pyout",
       "prompt_number": 9,
       "text": [
        "                        index              name         asciiname  \\\n",
        "country code geonameid                                              \n",
        "AD           3040051        0      les Escaldes      les Escaldes   \n",
        "             3041563        1  Andorra la Vella  Andorra la Vella   \n",
        "AE           290594         2    Umm al Qaywayn    Umm al Qaywayn   \n",
        "             291074         3    Ras al-Khaimah    Ras al-Khaimah   \n",
        "             291696         4      Khawr Fakk\u0101n      Khawr Fakkan   \n",
        "             292223         5             Dubai             Dubai   \n",
        "             292239         6              Dib\u0101              Diba   \n",
        "             292672         7           Sharjah           Sharjah   \n",
        "             292688         8         Ar Ruways         Ar Ruways   \n",
        "             292878         9       Al Fujayrah       Al Fujayrah   \n",
        "\n",
        "                                                           alternatenames  \\\n",
        "country code geonameid                                                      \n",
        "AD           3040051    Ehskal'des-Ehndzhordani,Escaldes,Escaldes-Engo...   \n",
        "             3041563    ALV,Ando-la-Vyey,Andora,Andora la Vela,Andora ...   \n",
        "AE           290594     Um al Quweim,Umm al Qaiwain,Umm al Qawain,Umm ...   \n",
        "             291074     Julfa,Khaimah,RKT,Ra's al Khaymah,Ras al Khaim...   \n",
        "             291696     Fakkan,Fakk\u0101n,Khawr Fakkan,Khawr Fakk\u0101n,Khawr ...   \n",
        "             292223     DXB,Dabei,Dibai,Dibay,Doubayi,Dubae,Dubai,Duba...   \n",
        "             292239     Daba,Daba al-Hisn,Dab\u0101,Dab\u0101 al-\u1e24i\u1e63n,Diba,Diba ...   \n",
        "             292672     Al Sharjah,Ash 'Mariqah,Ash Shariqa,Ash Shariq...   \n",
        "             292688     Ar Ru'ays,Ar Ruways,Ar Ru\u2019ays,Ar-Ruvais,Ruwais...   \n",
        "             292878     Al Fujayrah,Al-Fudjayra,Al-Fujayrah' emiraat,F...   \n",
        "\n",
        "                        latitude  longitude feature class feature code  cc2  \\\n",
        "country code geonameid                                                        \n",
        "AD           3040051    42.50729    1.53414             P         PPLA  NaN   \n",
        "             3041563    42.50779    1.52109             P         PPLC  NaN   \n",
        "AE           290594     25.56473   55.55517             P         PPLA  NaN   \n",
        "             291074     25.78953   55.94320             P         PPLA  NaN   \n",
        "             291696     25.33132   56.34199             P          PPL  NaN   \n",
        "             292223     25.25817   55.30472             P         PPLA  NaN   \n",
        "             292239     25.61955   56.27291             P          PPL  NaN   \n",
        "             292672     25.33737   55.41206             P         PPLA  NaN   \n",
        "             292688     24.11028   52.73056             P          PPL   AE   \n",
        "             292878     25.11641   56.34141             P         PPLA  NaN   \n",
        "\n",
        "                       admin1 code admin2 code admin3 code admin4 code  \\\n",
        "country code geonameid                                                   \n",
        "AD           3040051            08         NaN         NaN         NaN   \n",
        "             3041563            07         NaN         NaN         NaN   \n",
        "AE           290594             07         NaN         NaN         NaN   \n",
        "             291074             05         NaN         NaN         NaN   \n",
        "             291696             06         NaN         NaN         NaN   \n",
        "             292223             03         NaN         NaN         NaN   \n",
        "             292239             04         NaN         NaN         NaN   \n",
        "             292672             06         NaN         NaN         NaN   \n",
        "             292688             01         NaN         NaN         NaN   \n",
        "             292878             04         NaN         NaN         NaN   \n",
        "\n",
        "                        population  elevation   dem        timezone  \\\n",
        "country code geonameid                                                \n",
        "AD           3040051         15853        NaN  1033  Europe/Andorra   \n",
        "             3041563         20430        NaN  1037  Europe/Andorra   \n",
        "AE           290594          44411        NaN     2      Asia/Dubai   \n",
        "             291074         115949        NaN     2      Asia/Dubai   \n",
        "             291696          33575        NaN    20      Asia/Dubai   \n",
        "             292223        1137347        NaN    11      Asia/Dubai   \n",
        "             292239          26395        NaN     4      Asia/Dubai   \n",
        "             292672         543733        NaN     6      Asia/Dubai   \n",
        "             292688          16000        NaN    16      Asia/Dubai   \n",
        "             292878          62415        NaN    15      Asia/Dubai   \n",
        "\n",
        "                       modification date in target  \n",
        "country code geonameid                              \n",
        "AD           3040051          2008-10-15     False  \n",
        "             3041563          2010-05-30     False  \n",
        "AE           290594           2012-11-03     False  \n",
        "             291074           2013-11-26     False  \n",
        "             291696           2013-10-25     False  \n",
        "             292223           2012-08-19     False  \n",
        "             292239           2013-07-06     False  \n",
        "             292672           2013-03-05     False  \n",
        "             292688           2012-11-03     False  \n",
        "             292878           2012-01-18     False  "
       ]
      }
     ],
     "prompt_number": 9
    },
    {
     "cell_type": "code",
     "collapsed": false,
     "input": [
      "other_frame = country_frame[['name', 'latitude', 'longitude', 'in target']]"
     ],
     "language": "python",
     "metadata": {},
     "outputs": [],
     "prompt_number": 10
    },
    {
     "cell_type": "code",
     "collapsed": false,
     "input": [
      "other_frame.ix['AD']['name'].count()"
     ],
     "language": "python",
     "metadata": {},
     "outputs": [
      {
       "metadata": {},
       "output_type": "pyout",
       "prompt_number": 11,
       "text": [
        "2"
       ]
      }
     ],
     "prompt_number": 11
    },
    {
     "cell_type": "code",
     "collapsed": false,
     "input": [
      "countries_response = pd.io.html.read_html('http://www.geonames.org/countries/', attrs={'id': 'countries'}, flavor='html5lib', infer_types=False, header=0)"
     ],
     "language": "python",
     "metadata": {},
     "outputs": [],
     "prompt_number": 67
    },
    {
     "cell_type": "code",
     "collapsed": false,
     "input": [
      "country_series = countries_response[0][['ISO-3166alpha2', 'Country']].set_index('ISO-3166alpha2')['Country']\n",
      "country_series.ix['BL']\n",
      "# country_lookup_table = country_table.set_index('ISO-3166alpha2')\n",
      "# country_lookup_table.ix[u'AE']['Country']\n",
      "# country_lookup_table.ix[u'AE'].count(level='geonameid')"
     ],
     "language": "python",
     "metadata": {},
     "outputs": [
      {
       "metadata": {},
       "output_type": "pyout",
       "prompt_number": 78,
       "text": [
        "u'Saint Barth\\xc3\\xa9lemy'"
       ]
      }
     ],
     "prompt_number": 78
    },
    {
     "cell_type": "code",
     "collapsed": false,
     "input": [
      "barf = country_series.to_json(force_ascii=True)\n",
      "barf[:500]\n",
      "unbarf = json.loads(barf)\n",
      "unbarf['BL']"
     ],
     "language": "python",
     "metadata": {},
     "outputs": [
      {
       "metadata": {},
       "output_type": "pyout",
       "prompt_number": 84,
       "text": [
        "u'Saint Barth\\xc3\\xa9lemy'"
       ]
      }
     ],
     "prompt_number": 84
    },
    {
     "cell_type": "code",
     "collapsed": false,
     "input": [
      "newblob = blob.find_all('td', valign='middle')  #TODO -- count is off, need to fix\n",
      "print len(newblob)"
     ],
     "language": "python",
     "metadata": {},
     "outputs": [
      {
       "output_type": "stream",
       "stream": "stdout",
       "text": [
        "1014\n"
       ]
      }
     ],
     "prompt_number": 18
    },
    {
     "cell_type": "code",
     "collapsed": false,
     "input": [
      "country_dict = {}\n",
      "for item in newblob:\n",
      "    contents = item.contents\n",
      "    two_letter = contents[1].string\n",
      "    three_letter = contents[3].string\n",
      "    if len(two_letter) == 2 and len(three_letter) == 3:\n",
      "        country_dict[two_letter] = three_letter"
     ],
     "language": "python",
     "metadata": {},
     "outputs": [
      {
       "ename": "IndexError",
       "evalue": "list index out of range",
       "output_type": "pyerr",
       "traceback": [
        "\u001b[0;31m---------------------------------------------------------------------------\u001b[0m\n\u001b[0;31mIndexError\u001b[0m                                Traceback (most recent call last)",
        "\u001b[0;32m<ipython-input-19-318da3ce13d4>\u001b[0m in \u001b[0;36m<module>\u001b[0;34m()\u001b[0m\n\u001b[1;32m      3\u001b[0m     \u001b[0mcontents\u001b[0m \u001b[0;34m=\u001b[0m \u001b[0mitem\u001b[0m\u001b[0;34m.\u001b[0m\u001b[0mcontents\u001b[0m\u001b[0;34m\u001b[0m\u001b[0m\n\u001b[1;32m      4\u001b[0m     \u001b[0mtwo_letter\u001b[0m \u001b[0;34m=\u001b[0m \u001b[0mcontents\u001b[0m\u001b[0;34m[\u001b[0m\u001b[0;36m1\u001b[0m\u001b[0;34m]\u001b[0m\u001b[0;34m.\u001b[0m\u001b[0mstring\u001b[0m\u001b[0;34m\u001b[0m\u001b[0m\n\u001b[0;32m----> 5\u001b[0;31m     \u001b[0mthree_letter\u001b[0m \u001b[0;34m=\u001b[0m \u001b[0mcontents\u001b[0m\u001b[0;34m[\u001b[0m\u001b[0;36m3\u001b[0m\u001b[0;34m]\u001b[0m\u001b[0;34m.\u001b[0m\u001b[0mstring\u001b[0m\u001b[0;34m\u001b[0m\u001b[0m\n\u001b[0m\u001b[1;32m      6\u001b[0m     \u001b[0;32mif\u001b[0m \u001b[0mlen\u001b[0m\u001b[0;34m(\u001b[0m\u001b[0mtwo_letter\u001b[0m\u001b[0;34m)\u001b[0m \u001b[0;34m==\u001b[0m \u001b[0;36m2\u001b[0m \u001b[0;32mand\u001b[0m \u001b[0mlen\u001b[0m\u001b[0;34m(\u001b[0m\u001b[0mthree_letter\u001b[0m\u001b[0;34m)\u001b[0m \u001b[0;34m==\u001b[0m \u001b[0;36m3\u001b[0m\u001b[0;34m:\u001b[0m\u001b[0;34m\u001b[0m\u001b[0m\n\u001b[1;32m      7\u001b[0m         \u001b[0mcountry_dict\u001b[0m\u001b[0;34m[\u001b[0m\u001b[0mtwo_letter\u001b[0m\u001b[0;34m]\u001b[0m \u001b[0;34m=\u001b[0m \u001b[0mthree_letter\u001b[0m\u001b[0;34m\u001b[0m\u001b[0m\n",
        "\u001b[0;31mIndexError\u001b[0m: list index out of range"
       ]
      }
     ],
     "prompt_number": 19
    },
    {
     "cell_type": "code",
     "collapsed": false,
     "input": [
      "country_dict[:10]"
     ],
     "language": "python",
     "metadata": {},
     "outputs": [
      {
       "ename": "NameError",
       "evalue": "name 'country_dict' is not defined",
       "output_type": "pyerr",
       "traceback": [
        "\u001b[0;31m---------------------------------------------------------------------------\u001b[0m\n\u001b[0;31mNameError\u001b[0m                                 Traceback (most recent call last)",
        "\u001b[0;32m<ipython-input-1-54a628e1cb40>\u001b[0m in \u001b[0;36m<module>\u001b[0;34m()\u001b[0m\n\u001b[0;32m----> 1\u001b[0;31m \u001b[0mcountry_dict\u001b[0m\u001b[0;34m[\u001b[0m\u001b[0;34m:\u001b[0m\u001b[0;36m10\u001b[0m\u001b[0;34m]\u001b[0m\u001b[0;34m\u001b[0m\u001b[0m\n\u001b[0m",
        "\u001b[0;31mNameError\u001b[0m: name 'country_dict' is not defined"
       ]
      }
     ],
     "prompt_number": 1
    },
    {
     "cell_type": "code",
     "collapsed": false,
     "input": [
      "len(country_dict.keys())"
     ],
     "language": "python",
     "metadata": {},
     "outputs": [
      {
       "metadata": {},
       "output_type": "pyout",
       "prompt_number": 166,
       "text": [
        "103"
       ]
      }
     ],
     "prompt_number": 166
    },
    {
     "cell_type": "code",
     "collapsed": false,
     "input": [
      "%cd /Users/jeffblagdon/Developer/busbud/world.geo.json/\n",
      "map_dict = json.loads(open('countries.geo.json').read())\n",
      "map_dict.keys()\n",
      "map_dict['features'][0]['id']"
     ],
     "language": "python",
     "metadata": {},
     "outputs": [
      {
       "output_type": "stream",
       "stream": "stdout",
       "text": [
        "/Users/jeffblagdon/Developer/busbud/world.geo.json\n"
       ]
      },
      {
       "metadata": {},
       "output_type": "pyout",
       "prompt_number": 168,
       "text": [
        "u'AFG'"
       ]
      }
     ],
     "prompt_number": 168
    },
    {
     "cell_type": "code",
     "collapsed": false,
     "input": [
      "global_data = json.loads(open('data/ne_world.json').read())"
     ],
     "language": "python",
     "metadata": {},
     "outputs": [],
     "prompt_number": 22
    },
    {
     "cell_type": "code",
     "collapsed": false,
     "input": [
      "global_data['features'][0].keys()"
     ],
     "language": "python",
     "metadata": {},
     "outputs": [
      {
       "metadata": {},
       "output_type": "pyout",
       "prompt_number": 25,
       "text": [
        "[u'geometry', u'type', u'properties']"
       ]
      }
     ],
     "prompt_number": 25
    },
    {
     "cell_type": "code",
     "collapsed": false,
     "input": [],
     "language": "python",
     "metadata": {},
     "outputs": []
    }
   ],
   "metadata": {}
  }
 ]
}