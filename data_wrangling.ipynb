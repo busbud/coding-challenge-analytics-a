{
 "metadata": {
  "name": ""
 },
 "nbformat": 3,
 "nbformat_minor": 0,
 "worksheets": [
  {
   "cells": [
    {
     "cell_type": "code",
     "collapsed": false,
     "input": [
      "from pandas import DataFrame, Series\n",
      "import pandas as pd\n",
      "import json\n",
      "\n",
      "names = ['geonameid', 'name', 'asciiname', 'alternatenames', 'latitude', 'longitude', 'feature class', 'feature code', 'country code', 'cc2', 'admin1 code', 'admin2 code', 'admin3 code', 'admin4 code', 'population', 'elevation', 'dem', 'timezone', 'modification date']\n",
      "\n",
      "#This table is all the cities in the world with population over 15000\n",
      "raw = pd.read_table('static/data/cities15000.txt', names=names)"
     ],
     "language": "python",
     "metadata": {},
     "outputs": [],
     "prompt_number": 36
    },
    {
     "cell_type": "code",
     "collapsed": false,
     "input": [
      "frame = raw[raw['country code'].notnull()]\n",
      "frame = frame[['geonameid', 'name', 'asciiname', 'latitude', 'longitude', 'country code', 'population']].set_index('geonameid')\n",
      "frame['in target']=False"
     ],
     "language": "python",
     "metadata": {},
     "outputs": [],
     "prompt_number": 37
    },
    {
     "cell_type": "code",
     "collapsed": false,
     "input": [
      "print '{} entries dropped because no country code'.format(len(raw) - len(slim_frame))"
     ],
     "language": "python",
     "metadata": {},
     "outputs": [
      {
       "output_type": "stream",
       "stream": "stdout",
       "text": [
        "13 entries dropped because no country code\n"
       ]
      }
     ],
     "prompt_number": 38
    },
    {
     "cell_type": "code",
     "collapsed": false,
     "input": [
      "frame[:10]"
     ],
     "language": "python",
     "metadata": {},
     "outputs": [
      {
       "html": [
        "<div style=\"max-height:1000px;max-width:1500px;overflow:auto;\">\n",
        "<table border=\"1\" class=\"dataframe\">\n",
        "  <thead>\n",
        "    <tr style=\"text-align: right;\">\n",
        "      <th></th>\n",
        "      <th>name</th>\n",
        "      <th>asciiname</th>\n",
        "      <th>latitude</th>\n",
        "      <th>longitude</th>\n",
        "      <th>country code</th>\n",
        "      <th>population</th>\n",
        "      <th>in target</th>\n",
        "    </tr>\n",
        "    <tr>\n",
        "      <th>geonameid</th>\n",
        "      <th></th>\n",
        "      <th></th>\n",
        "      <th></th>\n",
        "      <th></th>\n",
        "      <th></th>\n",
        "      <th></th>\n",
        "      <th></th>\n",
        "    </tr>\n",
        "  </thead>\n",
        "  <tbody>\n",
        "    <tr>\n",
        "      <th>3040051</th>\n",
        "      <td>     les Escaldes</td>\n",
        "      <td>     les Escaldes</td>\n",
        "      <td> 42.50729</td>\n",
        "      <td>  1.53414</td>\n",
        "      <td> AD</td>\n",
        "      <td>   15853</td>\n",
        "      <td> False</td>\n",
        "    </tr>\n",
        "    <tr>\n",
        "      <th>3041563</th>\n",
        "      <td> Andorra la Vella</td>\n",
        "      <td> Andorra la Vella</td>\n",
        "      <td> 42.50779</td>\n",
        "      <td>  1.52109</td>\n",
        "      <td> AD</td>\n",
        "      <td>   20430</td>\n",
        "      <td> False</td>\n",
        "    </tr>\n",
        "    <tr>\n",
        "      <th>290594 </th>\n",
        "      <td>   Umm al Qaywayn</td>\n",
        "      <td>   Umm al Qaywayn</td>\n",
        "      <td> 25.56473</td>\n",
        "      <td> 55.55517</td>\n",
        "      <td> AE</td>\n",
        "      <td>   44411</td>\n",
        "      <td> False</td>\n",
        "    </tr>\n",
        "    <tr>\n",
        "      <th>291074 </th>\n",
        "      <td>   Ras al-Khaimah</td>\n",
        "      <td>   Ras al-Khaimah</td>\n",
        "      <td> 25.78953</td>\n",
        "      <td> 55.94320</td>\n",
        "      <td> AE</td>\n",
        "      <td>  115949</td>\n",
        "      <td> False</td>\n",
        "    </tr>\n",
        "    <tr>\n",
        "      <th>291696 </th>\n",
        "      <td>     Khawr Fakk\u0101n</td>\n",
        "      <td>     Khawr Fakkan</td>\n",
        "      <td> 25.33132</td>\n",
        "      <td> 56.34199</td>\n",
        "      <td> AE</td>\n",
        "      <td>   33575</td>\n",
        "      <td> False</td>\n",
        "    </tr>\n",
        "    <tr>\n",
        "      <th>292223 </th>\n",
        "      <td>            Dubai</td>\n",
        "      <td>            Dubai</td>\n",
        "      <td> 25.25817</td>\n",
        "      <td> 55.30472</td>\n",
        "      <td> AE</td>\n",
        "      <td> 1137347</td>\n",
        "      <td> False</td>\n",
        "    </tr>\n",
        "    <tr>\n",
        "      <th>292239 </th>\n",
        "      <td>             Dib\u0101</td>\n",
        "      <td>             Diba</td>\n",
        "      <td> 25.61955</td>\n",
        "      <td> 56.27291</td>\n",
        "      <td> AE</td>\n",
        "      <td>   26395</td>\n",
        "      <td> False</td>\n",
        "    </tr>\n",
        "    <tr>\n",
        "      <th>292672 </th>\n",
        "      <td>          Sharjah</td>\n",
        "      <td>          Sharjah</td>\n",
        "      <td> 25.33737</td>\n",
        "      <td> 55.41206</td>\n",
        "      <td> AE</td>\n",
        "      <td>  543733</td>\n",
        "      <td> False</td>\n",
        "    </tr>\n",
        "    <tr>\n",
        "      <th>292688 </th>\n",
        "      <td>        Ar Ruways</td>\n",
        "      <td>        Ar Ruways</td>\n",
        "      <td> 24.11028</td>\n",
        "      <td> 52.73056</td>\n",
        "      <td> AE</td>\n",
        "      <td>   16000</td>\n",
        "      <td> False</td>\n",
        "    </tr>\n",
        "    <tr>\n",
        "      <th>292878 </th>\n",
        "      <td>      Al Fujayrah</td>\n",
        "      <td>      Al Fujayrah</td>\n",
        "      <td> 25.11641</td>\n",
        "      <td> 56.34141</td>\n",
        "      <td> AE</td>\n",
        "      <td>   62415</td>\n",
        "      <td> False</td>\n",
        "    </tr>\n",
        "  </tbody>\n",
        "</table>\n",
        "</div>"
       ],
       "metadata": {},
       "output_type": "pyout",
       "prompt_number": 39,
       "text": [
        "                       name         asciiname  latitude  longitude  \\\n",
        "geonameid                                                            \n",
        "3040051        les Escaldes      les Escaldes  42.50729    1.53414   \n",
        "3041563    Andorra la Vella  Andorra la Vella  42.50779    1.52109   \n",
        "290594       Umm al Qaywayn    Umm al Qaywayn  25.56473   55.55517   \n",
        "291074       Ras al-Khaimah    Ras al-Khaimah  25.78953   55.94320   \n",
        "291696         Khawr Fakk\u0101n      Khawr Fakkan  25.33132   56.34199   \n",
        "292223                Dubai             Dubai  25.25817   55.30472   \n",
        "292239                 Dib\u0101              Diba  25.61955   56.27291   \n",
        "292672              Sharjah           Sharjah  25.33737   55.41206   \n",
        "292688            Ar Ruways         Ar Ruways  24.11028   52.73056   \n",
        "292878          Al Fujayrah       Al Fujayrah  25.11641   56.34141   \n",
        "\n",
        "          country code  population in target  \n",
        "geonameid                                     \n",
        "3040051             AD       15853     False  \n",
        "3041563             AD       20430     False  \n",
        "290594              AE       44411     False  \n",
        "291074              AE      115949     False  \n",
        "291696              AE       33575     False  \n",
        "292223              AE     1137347     False  \n",
        "292239              AE       26395     False  \n",
        "292672              AE      543733     False  \n",
        "292688              AE       16000     False  \n",
        "292878              AE       62415     False  "
       ]
      }
     ],
     "prompt_number": 39
    },
    {
     "cell_type": "code",
     "collapsed": false,
     "input": [
      "target = json.loads(open('static/data/target-list.json').read())\n",
      "print '{} cities in target-list'.format(len(target))\n",
      "print type(target)"
     ],
     "language": "python",
     "metadata": {},
     "outputs": [
      {
       "output_type": "stream",
       "stream": "stdout",
       "text": [
        "900 cities in target-list\n",
        "<type 'list'>\n"
       ]
      }
     ],
     "prompt_number": 40
    },
    {
     "cell_type": "code",
     "collapsed": false,
     "input": [
      "for item in target:\n",
      "    if item in frame.index:\n",
      "        frame['in target'].ix[item] = True"
     ],
     "language": "python",
     "metadata": {},
     "outputs": [],
     "prompt_number": 42
    },
    {
     "cell_type": "code",
     "collapsed": false,
     "input": [
      "country_frame = frame.reset_index().set_index('country code')\n",
      "country_dict = country_frame.ix['US']['in target'].value_counts().to_dict()\n",
      "country_dict['False']"
     ],
     "language": "python",
     "metadata": {},
     "outputs": [
      {
       "ename": "KeyError",
       "evalue": "'False'",
       "output_type": "pyerr",
       "traceback": [
        "\u001b[0;31m---------------------------------------------------------------------------\u001b[0m\n\u001b[0;31mKeyError\u001b[0m                                  Traceback (most recent call last)",
        "\u001b[0;32m<ipython-input-47-3ff313231c4f>\u001b[0m in \u001b[0;36m<module>\u001b[0;34m()\u001b[0m\n\u001b[1;32m      1\u001b[0m \u001b[0mcountry_frame\u001b[0m \u001b[0;34m=\u001b[0m \u001b[0mframe\u001b[0m\u001b[0;34m.\u001b[0m\u001b[0mreset_index\u001b[0m\u001b[0;34m(\u001b[0m\u001b[0;34m)\u001b[0m\u001b[0;34m.\u001b[0m\u001b[0mset_index\u001b[0m\u001b[0;34m(\u001b[0m\u001b[0;34m'country code'\u001b[0m\u001b[0;34m)\u001b[0m\u001b[0;34m\u001b[0m\u001b[0m\n\u001b[1;32m      2\u001b[0m \u001b[0mcountry_dict\u001b[0m \u001b[0;34m=\u001b[0m \u001b[0mcountry_frame\u001b[0m\u001b[0;34m.\u001b[0m\u001b[0mix\u001b[0m\u001b[0;34m[\u001b[0m\u001b[0;34m'US'\u001b[0m\u001b[0;34m]\u001b[0m\u001b[0;34m[\u001b[0m\u001b[0;34m'in target'\u001b[0m\u001b[0;34m]\u001b[0m\u001b[0;34m.\u001b[0m\u001b[0mvalue_counts\u001b[0m\u001b[0;34m(\u001b[0m\u001b[0;34m)\u001b[0m\u001b[0;34m.\u001b[0m\u001b[0mto_dict\u001b[0m\u001b[0;34m(\u001b[0m\u001b[0;34m)\u001b[0m\u001b[0;34m\u001b[0m\u001b[0m\n\u001b[0;32m----> 3\u001b[0;31m \u001b[0mcountry_dict\u001b[0m\u001b[0;34m[\u001b[0m\u001b[0;34m'False'\u001b[0m\u001b[0;34m]\u001b[0m\u001b[0;34m\u001b[0m\u001b[0m\n\u001b[0m",
        "\u001b[0;31mKeyError\u001b[0m: 'False'"
       ]
      }
     ],
     "prompt_number": 47
    },
    {
     "cell_type": "code",
     "collapsed": false,
     "input": [
      "country_frame = country_frame[['name', 'latitude', 'longitude', 'in target']]\n",
      "country_frame[:10]"
     ],
     "language": "python",
     "metadata": {},
     "outputs": [
      {
       "ename": "NameError",
       "evalue": "name 'country_frame' is not defined",
       "output_type": "pyerr",
       "traceback": [
        "\u001b[0;31m---------------------------------------------------------------------------\u001b[0m\n\u001b[0;31mNameError\u001b[0m                                 Traceback (most recent call last)",
        "\u001b[0;32m<ipython-input-16-d020dc4c21c7>\u001b[0m in \u001b[0;36m<module>\u001b[0;34m()\u001b[0m\n\u001b[0;32m----> 1\u001b[0;31m \u001b[0mcountry_frame\u001b[0m \u001b[0;34m=\u001b[0m \u001b[0mcountry_frame\u001b[0m\u001b[0;34m[\u001b[0m\u001b[0;34m[\u001b[0m\u001b[0;34m'name'\u001b[0m\u001b[0;34m,\u001b[0m \u001b[0;34m'latitude'\u001b[0m\u001b[0;34m,\u001b[0m \u001b[0;34m'longitude'\u001b[0m\u001b[0;34m,\u001b[0m \u001b[0;34m'in target'\u001b[0m\u001b[0;34m]\u001b[0m\u001b[0;34m]\u001b[0m\u001b[0;34m\u001b[0m\u001b[0m\n\u001b[0m\u001b[1;32m      2\u001b[0m \u001b[0mcountry_frame\u001b[0m\u001b[0;34m[\u001b[0m\u001b[0;34m:\u001b[0m\u001b[0;36m10\u001b[0m\u001b[0;34m]\u001b[0m\u001b[0;34m\u001b[0m\u001b[0m\n",
        "\u001b[0;31mNameError\u001b[0m: name 'country_frame' is not defined"
       ]
      }
     ],
     "prompt_number": 16
    },
    {
     "cell_type": "code",
     "collapsed": false,
     "input": [
      "def in_target(geonameid)"
     ],
     "language": "python",
     "metadata": {},
     "outputs": [
      {
       "html": [
        "<div style=\"max-height:1000px;max-width:1500px;overflow:auto;\">\n",
        "<table border=\"1\" class=\"dataframe\">\n",
        "  <thead>\n",
        "    <tr style=\"text-align: right;\">\n",
        "      <th></th>\n",
        "      <th></th>\n",
        "      <th>name</th>\n",
        "      <th>latitude</th>\n",
        "      <th>longitude</th>\n",
        "      <th>in target</th>\n",
        "    </tr>\n",
        "    <tr>\n",
        "      <th>country code</th>\n",
        "      <th>geonameid</th>\n",
        "      <th></th>\n",
        "      <th></th>\n",
        "      <th></th>\n",
        "      <th></th>\n",
        "    </tr>\n",
        "  </thead>\n",
        "  <tbody>\n",
        "    <tr>\n",
        "      <th rowspan=\"2\" valign=\"top\">AD</th>\n",
        "      <th>3040051</th>\n",
        "      <td>     les Escaldes</td>\n",
        "      <td> 42.50729</td>\n",
        "      <td>  1.53414</td>\n",
        "      <td> False</td>\n",
        "    </tr>\n",
        "    <tr>\n",
        "      <th>3041563</th>\n",
        "      <td> Andorra la Vella</td>\n",
        "      <td> 42.50779</td>\n",
        "      <td>  1.52109</td>\n",
        "      <td> False</td>\n",
        "    </tr>\n",
        "    <tr>\n",
        "      <th rowspan=\"8\" valign=\"top\">AE</th>\n",
        "      <th>290594 </th>\n",
        "      <td>   Umm al Qaywayn</td>\n",
        "      <td> 25.56473</td>\n",
        "      <td> 55.55517</td>\n",
        "      <td> False</td>\n",
        "    </tr>\n",
        "    <tr>\n",
        "      <th>291074 </th>\n",
        "      <td>   Ras al-Khaimah</td>\n",
        "      <td> 25.78953</td>\n",
        "      <td> 55.94320</td>\n",
        "      <td> False</td>\n",
        "    </tr>\n",
        "    <tr>\n",
        "      <th>291696 </th>\n",
        "      <td>     Khawr Fakk\u0101n</td>\n",
        "      <td> 25.33132</td>\n",
        "      <td> 56.34199</td>\n",
        "      <td> False</td>\n",
        "    </tr>\n",
        "    <tr>\n",
        "      <th>292223 </th>\n",
        "      <td>            Dubai</td>\n",
        "      <td> 25.25817</td>\n",
        "      <td> 55.30472</td>\n",
        "      <td> False</td>\n",
        "    </tr>\n",
        "    <tr>\n",
        "      <th>292239 </th>\n",
        "      <td>             Dib\u0101</td>\n",
        "      <td> 25.61955</td>\n",
        "      <td> 56.27291</td>\n",
        "      <td> False</td>\n",
        "    </tr>\n",
        "    <tr>\n",
        "      <th>292672 </th>\n",
        "      <td>          Sharjah</td>\n",
        "      <td> 25.33737</td>\n",
        "      <td> 55.41206</td>\n",
        "      <td> False</td>\n",
        "    </tr>\n",
        "    <tr>\n",
        "      <th>292688 </th>\n",
        "      <td>        Ar Ruways</td>\n",
        "      <td> 24.11028</td>\n",
        "      <td> 52.73056</td>\n",
        "      <td> False</td>\n",
        "    </tr>\n",
        "    <tr>\n",
        "      <th>292878 </th>\n",
        "      <td>      Al Fujayrah</td>\n",
        "      <td> 25.11641</td>\n",
        "      <td> 56.34141</td>\n",
        "      <td> False</td>\n",
        "    </tr>\n",
        "  </tbody>\n",
        "</table>\n",
        "</div>"
       ],
       "metadata": {},
       "output_type": "pyout",
       "prompt_number": 196,
       "text": [
        "                                    name  latitude  longitude in target\n",
        "country code geonameid                                                 \n",
        "AD           3040051        les Escaldes  42.50729    1.53414     False\n",
        "             3041563    Andorra la Vella  42.50779    1.52109     False\n",
        "AE           290594       Umm al Qaywayn  25.56473   55.55517     False\n",
        "             291074       Ras al-Khaimah  25.78953   55.94320     False\n",
        "             291696         Khawr Fakk\u0101n  25.33132   56.34199     False\n",
        "             292223                Dubai  25.25817   55.30472     False\n",
        "             292239                 Dib\u0101  25.61955   56.27291     False\n",
        "             292672              Sharjah  25.33737   55.41206     False\n",
        "             292688            Ar Ruways  24.11028   52.73056     False\n",
        "             292878          Al Fujayrah  25.11641   56.34141     False"
       ]
      }
     ],
     "prompt_number": 196
    },
    {
     "cell_type": "code",
     "collapsed": false,
     "input": [
      "country_dict = {}\n",
      "for item in newblob:\n",
      "    contents = item.contents\n",
      "    two_letter = contents[1].string\n",
      "    three_letter = contents[3].string\n",
      "    if len(two_letter) == 2 and len(three_letter) == 3:\n",
      "        country_dict[two_letter] = three_letter"
     ],
     "language": "python",
     "metadata": {},
     "outputs": [
      {
       "ename": "IndexError",
       "evalue": "list index out of range",
       "output_type": "pyerr",
       "traceback": [
        "\u001b[0;31m---------------------------------------------------------------------------\u001b[0m\n\u001b[0;31mIndexError\u001b[0m                                Traceback (most recent call last)",
        "\u001b[0;32m<ipython-input-19-318da3ce13d4>\u001b[0m in \u001b[0;36m<module>\u001b[0;34m()\u001b[0m\n\u001b[1;32m      3\u001b[0m     \u001b[0mcontents\u001b[0m \u001b[0;34m=\u001b[0m \u001b[0mitem\u001b[0m\u001b[0;34m.\u001b[0m\u001b[0mcontents\u001b[0m\u001b[0;34m\u001b[0m\u001b[0m\n\u001b[1;32m      4\u001b[0m     \u001b[0mtwo_letter\u001b[0m \u001b[0;34m=\u001b[0m \u001b[0mcontents\u001b[0m\u001b[0;34m[\u001b[0m\u001b[0;36m1\u001b[0m\u001b[0;34m]\u001b[0m\u001b[0;34m.\u001b[0m\u001b[0mstring\u001b[0m\u001b[0;34m\u001b[0m\u001b[0m\n\u001b[0;32m----> 5\u001b[0;31m     \u001b[0mthree_letter\u001b[0m \u001b[0;34m=\u001b[0m \u001b[0mcontents\u001b[0m\u001b[0;34m[\u001b[0m\u001b[0;36m3\u001b[0m\u001b[0;34m]\u001b[0m\u001b[0;34m.\u001b[0m\u001b[0mstring\u001b[0m\u001b[0;34m\u001b[0m\u001b[0m\n\u001b[0m\u001b[1;32m      6\u001b[0m     \u001b[0;32mif\u001b[0m \u001b[0mlen\u001b[0m\u001b[0;34m(\u001b[0m\u001b[0mtwo_letter\u001b[0m\u001b[0;34m)\u001b[0m \u001b[0;34m==\u001b[0m \u001b[0;36m2\u001b[0m \u001b[0;32mand\u001b[0m \u001b[0mlen\u001b[0m\u001b[0;34m(\u001b[0m\u001b[0mthree_letter\u001b[0m\u001b[0;34m)\u001b[0m \u001b[0;34m==\u001b[0m \u001b[0;36m3\u001b[0m\u001b[0;34m:\u001b[0m\u001b[0;34m\u001b[0m\u001b[0m\n\u001b[1;32m      7\u001b[0m         \u001b[0mcountry_dict\u001b[0m\u001b[0;34m[\u001b[0m\u001b[0mtwo_letter\u001b[0m\u001b[0;34m]\u001b[0m \u001b[0;34m=\u001b[0m \u001b[0mthree_letter\u001b[0m\u001b[0;34m\u001b[0m\u001b[0m\n",
        "\u001b[0;31mIndexError\u001b[0m: list index out of range"
       ]
      }
     ],
     "prompt_number": 19
    },
    {
     "cell_type": "code",
     "collapsed": false,
     "input": [
      "country_dict[:10]"
     ],
     "language": "python",
     "metadata": {},
     "outputs": [
      {
       "ename": "NameError",
       "evalue": "name 'country_dict' is not defined",
       "output_type": "pyerr",
       "traceback": [
        "\u001b[0;31m---------------------------------------------------------------------------\u001b[0m\n\u001b[0;31mNameError\u001b[0m                                 Traceback (most recent call last)",
        "\u001b[0;32m<ipython-input-1-54a628e1cb40>\u001b[0m in \u001b[0;36m<module>\u001b[0;34m()\u001b[0m\n\u001b[0;32m----> 1\u001b[0;31m \u001b[0mcountry_dict\u001b[0m\u001b[0;34m[\u001b[0m\u001b[0;34m:\u001b[0m\u001b[0;36m10\u001b[0m\u001b[0;34m]\u001b[0m\u001b[0;34m\u001b[0m\u001b[0m\n\u001b[0m",
        "\u001b[0;31mNameError\u001b[0m: name 'country_dict' is not defined"
       ]
      }
     ],
     "prompt_number": 1
    },
    {
     "cell_type": "code",
     "collapsed": false,
     "input": [
      "len(country_dict.keys())"
     ],
     "language": "python",
     "metadata": {},
     "outputs": [
      {
       "metadata": {},
       "output_type": "pyout",
       "prompt_number": 166,
       "text": [
        "103"
       ]
      }
     ],
     "prompt_number": 166
    },
    {
     "cell_type": "code",
     "collapsed": false,
     "input": [
      "%cd /Users/jeffblagdon/Developer/busbud/world.geo.json/\n",
      "map_dict = json.loads(open('countries.geo.json').read())\n",
      "map_dict.keys()\n",
      "map_dict['features'][0]['id']"
     ],
     "language": "python",
     "metadata": {},
     "outputs": [
      {
       "output_type": "stream",
       "stream": "stdout",
       "text": [
        "/Users/jeffblagdon/Developer/busbud/world.geo.json\n"
       ]
      },
      {
       "metadata": {},
       "output_type": "pyout",
       "prompt_number": 168,
       "text": [
        "u'AFG'"
       ]
      }
     ],
     "prompt_number": 168
    },
    {
     "cell_type": "code",
     "collapsed": false,
     "input": [
      "global_data = json.loads(open('data/ne_world.json').read())"
     ],
     "language": "python",
     "metadata": {},
     "outputs": [],
     "prompt_number": 22
    },
    {
     "cell_type": "code",
     "collapsed": false,
     "input": [
      "global_data['features'][0].keys()"
     ],
     "language": "python",
     "metadata": {},
     "outputs": [
      {
       "metadata": {},
       "output_type": "pyout",
       "prompt_number": 25,
       "text": [
        "[u'geometry', u'type', u'properties']"
       ]
      }
     ],
     "prompt_number": 25
    },
    {
     "cell_type": "code",
     "collapsed": false,
     "input": [],
     "language": "python",
     "metadata": {},
     "outputs": []
    }
   ],
   "metadata": {}
  }
 ]
}